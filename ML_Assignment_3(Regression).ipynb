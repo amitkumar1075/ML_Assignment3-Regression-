{
 "cells": [
  {
   "cell_type": "markdown",
   "id": "062f18bb-1df8-436d-a68e-643362fee166",
   "metadata": {},
   "source": [
    "## **Theory Questions**"
   ]
  },
  {
   "cell_type": "code",
   "execution_count": 4,
   "id": "b05e4125-374d-49cf-854b-5f88c06668ae",
   "metadata": {},
   "outputs": [],
   "source": [
    "#1. What is Simple Linear Regression \n",
    "\n",
    "#ans.>> smiple linear regression(SLR) attempts to dermine the strengths and characterstics of the relationship between one independent variable(x)\n",
    "#        and another dependent variable(y)"
   ]
  },
  {
   "cell_type": "code",
   "execution_count": 2,
   "id": "ba713cdc-a2ea-4201-bce7-5cb195804c38",
   "metadata": {},
   "outputs": [],
   "source": [
    "#2.What are the key assumptions of Simple Linear Regression \n",
    "\n",
    "#ans.>> key assumptions of Simple Linear Regression are :-\n",
    "#        1. there are only two varibales X and Y\n",
    "#        2. there is only two variable one is independent(X) and another is dependent variable(Y)"
   ]
  },
  {
   "cell_type": "code",
   "execution_count": null,
   "id": "f762ce19-b8b6-41b0-8a30-7cb396cce4c8",
   "metadata": {},
   "outputs": [],
   "source": [
    "#3. What does the coefficient m represent in the equation Y=mX+c \n",
    "\n",
    "#ans.>> m is the slope – it indicates the change in Y for a one-unit increase in X."
   ]
  },
  {
   "cell_type": "code",
   "execution_count": null,
   "id": "d759d722-4617-41a9-9db8-52fa45c33944",
   "metadata": {},
   "outputs": [],
   "source": [
    "#4. What does the intercept c represent in the equation Y=mX+c \n",
    "\n",
    "#ans.>> c is the intercept – the value of Y when X = 0."
   ]
  },
  {
   "cell_type": "code",
   "execution_count": null,
   "id": "4df7e30a-8923-456d-8f10-d5b8fd29e4a5",
   "metadata": {},
   "outputs": [],
   "source": [
    "#5. How do we calculate the slope m in Simple Linear Regression \n",
    "\n",
    "#ans.>> m = (y2 - y1)/(x2 - x1)"
   ]
  },
  {
   "cell_type": "code",
   "execution_count": null,
   "id": "cfd2e378-2b40-44f6-a5c5-3c904d53782d",
   "metadata": {},
   "outputs": [],
   "source": [
    "#6. What is the purpose of the least squares method in Simple Linear Regression \n",
    "\n",
    "#ans.>>To minimize the sum of squared differences between actual and predicted values"
   ]
  },
  {
   "cell_type": "code",
   "execution_count": null,
   "id": "5c64c261-9d90-4626-bb9a-1b5c211a3a79",
   "metadata": {},
   "outputs": [],
   "source": [
    "#7. How is the coefficient of determination (R²) interpreted in Simple Linear Regression \n",
    "\n",
    "#ans.>> R² shows the proportion of variance in Y explained by X."
   ]
  },
  {
   "cell_type": "code",
   "execution_count": null,
   "id": "cf09333a-bbf3-4cf8-a845-41dde7482c8a",
   "metadata": {},
   "outputs": [],
   "source": [
    "#8. What is Multiple Linear Regression \n",
    "\n",
    "#ans.>>It models the relationship between one dependent variable and two or more independent variables"
   ]
  },
  {
   "cell_type": "code",
   "execution_count": null,
   "id": "d9c9603f-abbb-4a25-b3dc-3d183ee24544",
   "metadata": {},
   "outputs": [],
   "source": [
    "#9. What is the main difference between Simple and Multiple Linear Regression \n",
    "\n",
    "#ans.>> Simple linear regression: 1 independent variable\n",
    "#       Multiple linear regression: 2 or more independent variables"
   ]
  },
  {
   "cell_type": "code",
   "execution_count": 38,
   "id": "f830d2ea-c968-48b0-bfab-54500731a002",
   "metadata": {},
   "outputs": [],
   "source": [
    "#10. What are the key assumptions of Multiple Linear Regression \n",
    "\n",
    "#ans.>> these are the key assumptions of Multiple Linear Regression :-\n",
    "#        1.Linearity\n",
    "#        2.Independence\n",
    "#        3.Homoscedasticity\n",
    "#        4.Normality\n",
    "#        5.No multicollinearity among independent variables"
   ]
  },
  {
   "cell_type": "code",
   "execution_count": null,
   "id": "195c7f47-f0d9-47e0-bec5-e579b3f20d66",
   "metadata": {},
   "outputs": [],
   "source": [
    "#11. What is heteroscedasticity, and how does it affect the results of a Multiple Linear Regression model \n",
    "\n",
    "#ans.>>Unequal variance of residuals across the range of X values.\n",
    "#      It violates model assumptions and can lead to inefficient estimates."
   ]
  },
  {
   "cell_type": "code",
   "execution_count": null,
   "id": "048c9910-95e3-458e-8f11-38a5abb64bbc",
   "metadata": {},
   "outputs": [],
   "source": [
    "#12. How can you improve a Multiple Linear Regression model with high multicollinearity \n",
    "\n",
    "#ans.>> how we improve a Multiple Linear Regression model with high multicollinearity :-\n",
    "#        1.emove highly correlated predictors\n",
    "#        2.Use PCA (Principal Component Analysis)\n",
    "#        3.Apply Ridge or Lasso Regression"
   ]
  },
  {
   "cell_type": "code",
   "execution_count": 6,
   "id": "31e5ff23-ea98-4bba-8b22-030b4bd2e48a",
   "metadata": {},
   "outputs": [],
   "source": [
    "#13. What are some common techniques for transforming categorical variables for use in regression models \n",
    "\n",
    "#ans.>> these are some common techniques for transforming categorical variables for use in regression models \n",
    "#          1.one-hot-Encoding\n",
    "#          2.Label Encoder\n",
    "#          3. ordinal Encoder"
   ]
  },
  {
   "cell_type": "code",
   "execution_count": 8,
   "id": "b85f14f3-f102-48b9-b206-a1dc938333c7",
   "metadata": {},
   "outputs": [],
   "source": [
    "#14. What is the role of interaction terms in Multiple Linear Regression \n",
    "\n",
    "#ans.>>Interaction terms (e.g., X₁×X₂) capture combined effects of variables that aren’t apparent individually."
   ]
  },
  {
   "cell_type": "code",
   "execution_count": null,
   "id": "c8941d96-2b2d-4b7c-8b1d-506a86b907bb",
   "metadata": {},
   "outputs": [],
   "source": [
    "#15. How can the interpretation of intercept differ between Simple and Multiple Linear Regression \n",
    "\n",
    "#ans.>> Simple linear regression: Y when X = 0\n",
    "#       Multiple linear regression: Y when all X₁, X₂,… = 0 (may or may not have real-world meaning)"
   ]
  },
  {
   "cell_type": "code",
   "execution_count": 10,
   "id": "43c1f5bd-60de-495f-9235-e06cbfebec15",
   "metadata": {},
   "outputs": [],
   "source": [
    "#16. What is the significance of the slope in regression analysis, and how does it affect predictions\n",
    "\n",
    "#ans.>>Shows the effect of one unit change in X on Y. A larger slope implies a stronger relationship"
   ]
  },
  {
   "cell_type": "code",
   "execution_count": null,
   "id": "6b329693-1a36-4eb4-82c1-dc975d6c1774",
   "metadata": {},
   "outputs": [],
   "source": [
    "#17. How does the intercept in a regression model provide context for the relationship between variables \n",
    "\n",
    "#ans.>>Provides a baseline value of Y when all predictors are zero. Important for understanding the starting point of the model."
   ]
  },
  {
   "cell_type": "code",
   "execution_count": 12,
   "id": "32133db0-cf87-4e22-939d-8de89828b884",
   "metadata": {},
   "outputs": [],
   "source": [
    "#18. What are the limitations of using R² as a sole measure of model performance\n",
    "\n",
    "#ans.>> these are the limitations of using R² as a sole measure of model performance :-\n",
    "#        1.Doesn’t indicate if model is appropriate.\n",
    "#        2.Increases with more variables (even irrelevant ones).\n",
    "#        3.Doesn’t detect overfitting."
   ]
  },
  {
   "cell_type": "code",
   "execution_count": 14,
   "id": "7db1857d-a39d-4bfe-a1b7-300286c87f27",
   "metadata": {},
   "outputs": [],
   "source": [
    "#19. How would you interpret a large standard error for a regression coefficient \n",
    "\n",
    "#ans.>>Indicates uncertainty in the estimate; the variable might not significantly affect the outcome."
   ]
  },
  {
   "cell_type": "code",
   "execution_count": 16,
   "id": "f58b5976-e136-4a2a-8a4b-fc81f30216ea",
   "metadata": {},
   "outputs": [],
   "source": [
    "#20. What is polynomial regression When is polynomial regression used \n",
    "\n",
    "#ans.>>Polynomial regression fits a non-linear relationship using polynomial terms:\n",
    " #     Used when data shows other than a straight line."
   ]
  },
  {
   "cell_type": "code",
   "execution_count": 18,
   "id": "02e957ef-a71e-4eab-a4e6-15b92ff91beb",
   "metadata": {},
   "outputs": [],
   "source": [
    "#21. How can heteroscedasticity be identified in residual plots, and why is it important to address it \n",
    "\n",
    "#ans.>>In residual plots: look for funnel-shaped patterns instead of randomness. Important to correct for valid inference."
   ]
  },
  {
   "cell_type": "code",
   "execution_count": null,
   "id": "913bbaa4-6b53-4c18-a248-b4149b02078c",
   "metadata": {},
   "outputs": [],
   "source": [
    "#22. What does it mean if a Multiple Linear Regression model has a high R² but low adjusted R²\n",
    "\n",
    "#ans.>>Indicates the model includes irrelevant variables that don’t improve the model’s actual explanatory power."
   ]
  },
  {
   "cell_type": "code",
   "execution_count": 20,
   "id": "13871a31-029e-4c3e-a3aa-f5335b4941d5",
   "metadata": {},
   "outputs": [],
   "source": [
    "#23. Why is it important to scale variables in Multiple Linear Regression \n",
    "\n",
    "#ans.>>  important to scale variables in Multiple Linear Regression \n",
    "#          1.Prevents bias due to different units\n",
    "#          2.Helps with convergence in optimization\n",
    "#          3.Especially important for regularization techniques (Ridge, Lasso)"
   ]
  },
  {
   "cell_type": "code",
   "execution_count": 22,
   "id": "c24ac430-3eed-422b-9576-fb45fbfddc87",
   "metadata": {},
   "outputs": [],
   "source": [
    "#24. What is polynomial regression\n",
    "\n",
    "#ans.>>Polynomial regression fits a non-linear relationship using polynomial terms:\n",
    " #     Used when data shows other than a straight line."
   ]
  },
  {
   "cell_type": "code",
   "execution_count": 24,
   "id": "f1942372-8e0f-48c6-bf26-50b870e1f1af",
   "metadata": {},
   "outputs": [],
   "source": [
    "#25. How does polynomial regression differ from linear regression \n",
    "\n",
    "#ans.>> this is how polynomial regression differ from linear regression :-\n",
    "#          Linear regression: straight-line relationship\n",
    "#          Polynomial regression: allows curved trends using powers of the independent variable(s)"
   ]
  },
  {
   "cell_type": "code",
   "execution_count": 26,
   "id": "18ed7f4c-169a-4df8-b7b6-1dcdd65d8ab3",
   "metadata": {},
   "outputs": [],
   "source": [
    "#26. What is the general equation for polynomial regression\n",
    "\n",
    "#ans.>> y pred. = b0 + b1X + b2X**2 + b3X**3......bnX**n"
   ]
  },
  {
   "cell_type": "code",
   "execution_count": 28,
   "id": "d5ac4359-f9d1-491c-9360-0eb8b58c878d",
   "metadata": {},
   "outputs": [],
   "source": [
    "#27. Can polynomial regression be applied to multiple variables \n",
    "\n",
    "#ans.>> Yes, called Multivariate Polynomial Regression, but complexity and risk of overfitting increase."
   ]
  },
  {
   "cell_type": "code",
   "execution_count": 30,
   "id": "a3f76e17-df5c-4dba-8a25-a2bc64971e68",
   "metadata": {},
   "outputs": [],
   "source": [
    "#28. What are the limitations of polynomial regression \n",
    "\n",
    "#ans.>> these are the limitations of polynomial regression :-\n",
    "#          1.Risk of overfitting\n",
    "#          2.Sensitive to outliers\n",
    "#          3.Not interpretable for high-degree polynomials\n",
    "#          4.May require scaling"
   ]
  },
  {
   "cell_type": "code",
   "execution_count": 32,
   "id": "2f090d8e-8e50-47d7-b6e8-3f0be3224a47",
   "metadata": {},
   "outputs": [],
   "source": [
    "#29. What methods can be used to evaluate model fit when selecting the degree of a polynomial \n",
    "\n",
    "#ans.>> these are the methods can be used to evaluate model fit when selecting the degree of a polynomial \n",
    "#         1.Cross-validation\n",
    "#         2.Adjusted R²\n",
    "#         3.AIC/BIC\n",
    "#         4.Residual plots"
   ]
  },
  {
   "cell_type": "code",
   "execution_count": 34,
   "id": "5522e188-227c-44ed-9202-85b33a29482a",
   "metadata": {},
   "outputs": [],
   "source": [
    "#30. Why is visualization important in polynomial regression \n",
    "\n",
    "#ans.>> 1.Helps in choosing the right degree of the polynomial\n",
    "#       2.Shows if model overfits or underfits\n",
    "#       3.Useful in communicating model behavior"
   ]
  },
  {
   "cell_type": "code",
   "execution_count": 36,
   "id": "905ea4a2-9e42-4254-969a-1e4f4661e576",
   "metadata": {},
   "outputs": [
    {
     "name": "stdout",
     "output_type": "stream",
     "text": [
      "[6.2]\n"
     ]
    }
   ],
   "source": [
    "#31. How is polynomial regression implemented in Python?\n",
    "\n",
    "from sklearn.linear_model import LinearRegression\n",
    "from sklearn.preprocessing import PolynomialFeatures\n",
    "from sklearn.pipeline import make_pipeline\n",
    "\n",
    "# Sample data\n",
    "X = [[1], [2], [3], [4], [5]]\n",
    "y = [1.2, 1.9, 3.2, 3.8, 5.1]\n",
    "\n",
    "# Create a pipeline with degree 2 polynomial\n",
    "model = make_pipeline(PolynomialFeatures(degree=2), LinearRegression())\n",
    "model.fit(X, y)\n",
    "\n",
    "# Predict\n",
    "pred = model.predict([[6]])\n",
    "print(pred)\n"
   ]
  },
  {
   "cell_type": "code",
   "execution_count": null,
   "id": "561c7ff1-eb1d-45c5-93a5-862454ec0156",
   "metadata": {},
   "outputs": [],
   "source": []
  },
  {
   "cell_type": "code",
   "execution_count": null,
   "id": "60acbe6f-7897-4aa3-944f-561c6476aee1",
   "metadata": {},
   "outputs": [],
   "source": []
  },
  {
   "cell_type": "code",
   "execution_count": null,
   "id": "970663cc-cb91-4739-861d-f44eed9ef22c",
   "metadata": {},
   "outputs": [],
   "source": []
  },
  {
   "cell_type": "code",
   "execution_count": null,
   "id": "7b124d63-b98e-4c43-bb4b-b5d538a9dca2",
   "metadata": {},
   "outputs": [],
   "source": []
  },
  {
   "cell_type": "code",
   "execution_count": null,
   "id": "c72d8ee5-d91d-4642-a78f-9daeb37fcb70",
   "metadata": {},
   "outputs": [],
   "source": []
  },
  {
   "cell_type": "code",
   "execution_count": null,
   "id": "e237dc92-ed85-4380-8199-0e61c8810597",
   "metadata": {},
   "outputs": [],
   "source": []
  },
  {
   "cell_type": "code",
   "execution_count": null,
   "id": "a449740a-cdd4-4b05-a924-f24f6859edba",
   "metadata": {},
   "outputs": [],
   "source": []
  },
  {
   "cell_type": "code",
   "execution_count": null,
   "id": "c06fa0e7-40d4-4944-a92b-1a220c758c62",
   "metadata": {},
   "outputs": [],
   "source": []
  },
  {
   "cell_type": "code",
   "execution_count": null,
   "id": "b7ea08ad-6129-45db-a782-891703333535",
   "metadata": {},
   "outputs": [],
   "source": []
  },
  {
   "cell_type": "code",
   "execution_count": null,
   "id": "9fc35176-d3a7-46b6-9c21-a8a47d753dd3",
   "metadata": {},
   "outputs": [],
   "source": []
  },
  {
   "cell_type": "code",
   "execution_count": null,
   "id": "c863e5c2-bb79-4bfe-8b9c-4277e5be124f",
   "metadata": {},
   "outputs": [],
   "source": []
  },
  {
   "cell_type": "code",
   "execution_count": null,
   "id": "0db12da6-6c4e-4fae-9305-1147658dd5f9",
   "metadata": {},
   "outputs": [],
   "source": []
  },
  {
   "cell_type": "code",
   "execution_count": null,
   "id": "b02b0fc2-2137-4254-b9d2-859801c9b569",
   "metadata": {},
   "outputs": [],
   "source": []
  },
  {
   "cell_type": "code",
   "execution_count": null,
   "id": "9d698b4c-23e9-46ca-b9fb-9f8ee9bfc9cc",
   "metadata": {},
   "outputs": [],
   "source": []
  },
  {
   "cell_type": "code",
   "execution_count": null,
   "id": "90abe440-a7ab-4d8c-a5f1-7242ebb5782f",
   "metadata": {},
   "outputs": [],
   "source": []
  },
  {
   "cell_type": "code",
   "execution_count": null,
   "id": "8479ad47-a059-422c-9ec9-2c9afa013ac9",
   "metadata": {},
   "outputs": [],
   "source": []
  },
  {
   "cell_type": "code",
   "execution_count": null,
   "id": "874dd9f0-1504-4bc8-ae4c-64aed062321f",
   "metadata": {},
   "outputs": [],
   "source": []
  },
  {
   "cell_type": "code",
   "execution_count": null,
   "id": "21e712b6-3689-43b7-96b7-f7240d129c3d",
   "metadata": {},
   "outputs": [],
   "source": []
  },
  {
   "cell_type": "code",
   "execution_count": null,
   "id": "dce0c830-113a-4e52-8d14-c4e5929f8b36",
   "metadata": {},
   "outputs": [],
   "source": []
  },
  {
   "cell_type": "code",
   "execution_count": null,
   "id": "2d8a45b0-3329-49f7-afc8-cf2cec19f390",
   "metadata": {},
   "outputs": [],
   "source": []
  },
  {
   "cell_type": "code",
   "execution_count": null,
   "id": "33f1b778-2293-4b8c-8446-e2a500bb1dfd",
   "metadata": {},
   "outputs": [],
   "source": []
  },
  {
   "cell_type": "code",
   "execution_count": null,
   "id": "ab065a85-6979-406c-92ab-bd26559f12b7",
   "metadata": {},
   "outputs": [],
   "source": []
  },
  {
   "cell_type": "code",
   "execution_count": null,
   "id": "bf46d344-c770-435b-8fec-b67ad3d90799",
   "metadata": {},
   "outputs": [],
   "source": []
  },
  {
   "cell_type": "code",
   "execution_count": null,
   "id": "68d67391-1063-4bf2-8ecf-1a75e695a81b",
   "metadata": {},
   "outputs": [],
   "source": []
  },
  {
   "cell_type": "code",
   "execution_count": null,
   "id": "1e5f5f6e-4dcc-4176-8b3a-482a4240f91f",
   "metadata": {},
   "outputs": [],
   "source": []
  },
  {
   "cell_type": "code",
   "execution_count": null,
   "id": "5ccafcac-b8e5-400e-a6c2-02e6c83f2d93",
   "metadata": {},
   "outputs": [],
   "source": []
  },
  {
   "cell_type": "code",
   "execution_count": null,
   "id": "1d0fa188-d1be-40ba-86e8-f9205c5d05a6",
   "metadata": {},
   "outputs": [],
   "source": []
  },
  {
   "cell_type": "code",
   "execution_count": null,
   "id": "4761dc8e-30cf-4d07-91e6-dcb1c129918a",
   "metadata": {},
   "outputs": [],
   "source": []
  },
  {
   "cell_type": "code",
   "execution_count": null,
   "id": "9a8a362d-db26-490a-ba56-622a50af061c",
   "metadata": {},
   "outputs": [],
   "source": []
  },
  {
   "cell_type": "code",
   "execution_count": null,
   "id": "9ff84bf0-0577-4b98-9a88-81dd83ad3be6",
   "metadata": {},
   "outputs": [],
   "source": []
  },
  {
   "cell_type": "code",
   "execution_count": null,
   "id": "316537d8-df69-4ddc-8fa0-c306abc4708b",
   "metadata": {},
   "outputs": [],
   "source": []
  },
  {
   "cell_type": "code",
   "execution_count": null,
   "id": "f47a288c-4943-45ea-aa0f-b00bd0251ab9",
   "metadata": {},
   "outputs": [],
   "source": []
  },
  {
   "cell_type": "code",
   "execution_count": null,
   "id": "2be15820-beed-427d-af17-2625be6c3f9b",
   "metadata": {},
   "outputs": [],
   "source": []
  },
  {
   "cell_type": "code",
   "execution_count": null,
   "id": "5e3509f4-ba83-463d-9960-1a936960ad70",
   "metadata": {},
   "outputs": [],
   "source": []
  },
  {
   "cell_type": "code",
   "execution_count": null,
   "id": "1e316e4a-642a-4ee6-b8b8-f8ccca784c91",
   "metadata": {},
   "outputs": [],
   "source": []
  },
  {
   "cell_type": "code",
   "execution_count": null,
   "id": "847988f9-982a-4b5e-8eda-a2e2a41bbe32",
   "metadata": {},
   "outputs": [],
   "source": []
  },
  {
   "cell_type": "code",
   "execution_count": null,
   "id": "f19bc50e-00e4-493c-ac74-b62ffc58bdc2",
   "metadata": {},
   "outputs": [],
   "source": []
  },
  {
   "cell_type": "code",
   "execution_count": null,
   "id": "e5b7e37e-5d85-4c8d-9358-b0413f15d554",
   "metadata": {},
   "outputs": [],
   "source": []
  },
  {
   "cell_type": "code",
   "execution_count": null,
   "id": "415edab7-b636-45f6-8c5a-e3cd1f945be5",
   "metadata": {},
   "outputs": [],
   "source": []
  },
  {
   "cell_type": "code",
   "execution_count": null,
   "id": "ac68bd4f-d27e-4621-86c1-8f4019077562",
   "metadata": {},
   "outputs": [],
   "source": []
  },
  {
   "cell_type": "code",
   "execution_count": null,
   "id": "26c07844-737f-45e6-8ec8-b77d1542519a",
   "metadata": {},
   "outputs": [],
   "source": []
  },
  {
   "cell_type": "code",
   "execution_count": null,
   "id": "4540ea9b-098e-445a-b108-52b96f681605",
   "metadata": {},
   "outputs": [],
   "source": []
  },
  {
   "cell_type": "code",
   "execution_count": null,
   "id": "ee85457a-8ce5-474a-8201-e41405f697dd",
   "metadata": {},
   "outputs": [],
   "source": []
  },
  {
   "cell_type": "code",
   "execution_count": null,
   "id": "088e62c5-2907-40c7-b296-c2fc139a6fd9",
   "metadata": {},
   "outputs": [],
   "source": []
  },
  {
   "cell_type": "code",
   "execution_count": null,
   "id": "52cc8dde-5cbb-47e8-a6da-4737814bea9b",
   "metadata": {},
   "outputs": [],
   "source": []
  },
  {
   "cell_type": "code",
   "execution_count": null,
   "id": "8d24fea3-ff19-4a58-8ab2-681d4c73063b",
   "metadata": {},
   "outputs": [],
   "source": []
  },
  {
   "cell_type": "code",
   "execution_count": null,
   "id": "4d6625e8-ae31-4bd7-8fc1-7033923489b1",
   "metadata": {},
   "outputs": [],
   "source": []
  },
  {
   "cell_type": "code",
   "execution_count": null,
   "id": "5c2196d2-f293-465f-b24c-63f6688f40e0",
   "metadata": {},
   "outputs": [],
   "source": []
  },
  {
   "cell_type": "code",
   "execution_count": null,
   "id": "f481e0dd-c57f-4a6a-9459-47df37bd26c4",
   "metadata": {},
   "outputs": [],
   "source": []
  },
  {
   "cell_type": "code",
   "execution_count": null,
   "id": "62931b17-8f4f-4adf-b2f1-c98f998f4414",
   "metadata": {},
   "outputs": [],
   "source": []
  },
  {
   "cell_type": "code",
   "execution_count": null,
   "id": "2ae576d0-17fc-47ab-adf0-431c5aa36fa9",
   "metadata": {},
   "outputs": [],
   "source": []
  },
  {
   "cell_type": "code",
   "execution_count": null,
   "id": "4be14d74-76f7-48f3-81c4-18f432f44220",
   "metadata": {},
   "outputs": [],
   "source": []
  },
  {
   "cell_type": "code",
   "execution_count": null,
   "id": "88885a12-f254-47b9-a30a-022d65cba40e",
   "metadata": {},
   "outputs": [],
   "source": []
  },
  {
   "cell_type": "code",
   "execution_count": null,
   "id": "d030a3b0-d6b8-4be0-9dda-8c41ab0ad715",
   "metadata": {},
   "outputs": [],
   "source": []
  }
 ],
 "metadata": {
  "kernelspec": {
   "display_name": "Python [conda env:base] *",
   "language": "python",
   "name": "conda-base-py"
  },
  "language_info": {
   "codemirror_mode": {
    "name": "ipython",
    "version": 3
   },
   "file_extension": ".py",
   "mimetype": "text/x-python",
   "name": "python",
   "nbconvert_exporter": "python",
   "pygments_lexer": "ipython3",
   "version": "3.12.7"
  }
 },
 "nbformat": 4,
 "nbformat_minor": 5
}
